{
 "cells": [
  {
   "cell_type": "markdown",
   "id": "742c0fde-35e8-490f-b6b9-31e85e0e5494",
   "metadata": {},
   "source": [
    "# Data Science Tools and Ecosystem"
   ]
  },
  {
   "cell_type": "markdown",
   "id": "96898c42-24de-4181-8056-d6fdb171d9c2",
   "metadata": {},
   "source": [
    "### In this notebook, Data Science Tools and Ecosystem are summarized."
   ]
  },
  {
   "cell_type": "markdown",
   "id": "569df398-ca2b-4094-b0df-56d01a2b1a29",
   "metadata": {},
   "source": [
    "Some of the popular languages that Data Scientists use are:\n",
    "1. python\n",
    "2. R\n",
    "3. SQL"
   ]
  },
  {
   "cell_type": "markdown",
   "id": "900d4d4c-d6dd-4fe9-9332-0390248bb142",
   "metadata": {},
   "source": [
    "Some of the commonly used libraries used by Data Scientists include:\n",
    "1. Pandas\n",
    "2. Matplotlib\n",
    "3. TensorFlow"
   ]
  },
  {
   "cell_type": "markdown",
   "id": "3efa9418-065f-447a-88e3-54cc28632781",
   "metadata": {},
   "source": [
    "|Data Science Tools |\n",
    "|-----|\n",
    "|Jupyter Notebook|\n",
    "|R Studio|\n",
    "|github|"
   ]
  },
  {
   "attachments": {},
   "cell_type": "markdown",
   "id": "3e2f7353-c416-4539-a556-1000e9e9cdc1",
   "metadata": {},
   "source": [
    "### Below are a few examples of evaluating arithmetic expressions in Python"
   ]
  },
  {
   "cell_type": "code",
   "execution_count": 20,
   "id": "10d3dfa7-220b-4dcc-a717-ecdd8df8f2ce",
   "metadata": {},
   "outputs": [
    {
     "data": {
      "text/plain": [
       "17"
      ]
     },
     "execution_count": 20,
     "metadata": {},
     "output_type": "execute_result"
    }
   ],
   "source": [
    "#This a simple arithmetic expression to mutiply then add integers\n",
    "\n",
    "(3*4)+5"
   ]
  },
  {
   "cell_type": "code",
   "execution_count": 22,
   "id": "351b4704-f2e3-488e-9ab7-001104b2fbe0",
   "metadata": {},
   "outputs": [
    {
     "data": {
      "text/plain": [
       "3.3333333333333335"
      ]
     },
     "execution_count": 22,
     "metadata": {},
     "output_type": "execute_result"
    }
   ],
   "source": [
    "#This will convert 200 minutes to hours by diving by 60\n",
    "\n",
    "200/60"
   ]
  },
  {
   "cell_type": "markdown",
   "id": "8eaeef72-011d-44e6-9b40-bfd45cea2d5f",
   "metadata": {},
   "source": [
    "**Objectives:**\n",
    "- List popular laguages for Data Science\n",
    "- List popular libraries for Data Science\n",
    "- Learn about R Studio\n",
    "- Learn about github\n",
    "- Learn about Jupyter Notebooks"
   ]
  },
  {
   "cell_type": "markdown",
   "id": "36a99f65-f603-4b19-9fb2-a6603f6cae03",
   "metadata": {},
   "source": [
    "## Author\n",
    "\n",
    "Jessie Ashworth"
   ]
  },
  {
   "cell_type": "code",
   "execution_count": null,
   "id": "92e676dd-1436-4c4a-a25b-8d17ee7473a8",
   "metadata": {},
   "outputs": [],
   "source": []
  }
 ],
 "metadata": {
  "kernelspec": {
   "display_name": "Python 3 (ipykernel)",
   "language": "python",
   "name": "python3"
  },
  "language_info": {
   "codemirror_mode": {
    "name": "ipython",
    "version": 3
   },
   "file_extension": ".py",
   "mimetype": "text/x-python",
   "name": "python",
   "nbconvert_exporter": "python",
   "pygments_lexer": "ipython3",
   "version": "3.12.4"
  }
 },
 "nbformat": 4,
 "nbformat_minor": 5
}
